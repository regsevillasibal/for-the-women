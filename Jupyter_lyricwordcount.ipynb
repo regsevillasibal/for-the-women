{
 "cells": [
  {
   "cell_type": "code",
   "execution_count": 50,
   "metadata": {},
   "outputs": [],
   "source": [
    "#MAROON5 - GIRL LIKE YOU"
   ]
  },
  {
   "cell_type": "code",
   "execution_count": 78,
   "metadata": {},
   "outputs": [],
   "source": [
    "lyrics= \"Spent twenty four hours I need more hours with you You spent the weekend Getting even ooh ooh We spent the late nights Making things right between u But now its all good baby Roll that Backwood baby And play me close Cause girls like you Run around with guys like me Til sundown when I come through I need a girl like you yeah yeah Girls like you Love fun yeah me too What I want when I come through I need a girl like you yeah yeah Yeah yeah yeah Yeah yeah yeah I need a girl like you yeah yeah yeah yeah yeah yeah yeah yeah I need a girl like you yeah yeah I spent last night On the last flight to you Took a whole day up Trying to get way up ooh ooh We spent the daylight Trying to make things right between us And now its all good baby Roll that Backwood baby And play\""
   ]
  },
  {
   "cell_type": "code",
   "execution_count": 79,
   "metadata": {},
   "outputs": [],
   "source": [
    "split_lyrics = lyrics.split(' ')"
   ]
  },
  {
   "cell_type": "code",
   "execution_count": 80,
   "metadata": {},
   "outputs": [
    {
     "name": "stdout",
     "output_type": "stream",
     "text": [
      "['Spent', 'twenty', 'four', 'hours', 'I', 'need', 'more', 'hours', 'with', 'you', 'You', 'spent', 'the', 'weekend', 'Getting', 'even', 'ooh', 'ooh', 'We', 'spent', 'the', 'late', 'nights', 'Making', 'things', 'right', 'between', 'u', 'But', 'now', 'its', 'all', 'good', 'baby', 'Roll', 'that', 'Backwood', 'baby', 'And', 'play', 'me', 'close', 'Cause', 'girls', 'like', 'you', 'Run', 'around', 'with', 'guys', 'like', 'me', 'Til', 'sundown', 'when', 'I', 'come', 'through', 'I', 'need', 'a', 'girl', 'like', 'you', 'yeah', 'yeah', 'Girls', 'like', 'you', 'Love', 'fun', 'yeah', 'me', 'too', 'What', 'I', 'want', 'when', 'I', 'come', 'through', 'I', 'need', 'a', 'girl', 'like', 'you', 'yeah', 'yeah', 'Yeah', 'yeah', 'yeah', 'Yeah', 'yeah', 'yeah', 'I', 'need', 'a', 'girl', 'like', 'you', 'yeah', 'yeah', 'yeah', 'yeah', 'yeah', 'yeah', 'yeah', 'yeah', 'I', 'need', 'a', 'girl', 'like', 'you', 'yeah', 'yeah', 'I', 'spent', 'last', 'night', 'On', 'the', 'last', 'flight', 'to', 'you', 'Took', 'a', 'whole', 'day', 'up', 'Trying', 'to', 'get', 'way', 'up', 'ooh', 'ooh', 'We', 'spent', 'the', 'daylight', 'Trying', 'to', 'make', 'things', 'right', 'between', 'us', 'And', 'now', 'its', 'all', 'good', 'baby', 'Roll', 'that', 'Backwood', 'baby', 'And', 'play']\n"
     ]
    }
   ],
   "source": [
    "print(split_lyrics)"
   ]
  },
  {
   "cell_type": "code",
   "execution_count": 81,
   "metadata": {},
   "outputs": [],
   "source": [
    "# To separate the unique words"
   ]
  },
  {
   "cell_type": "code",
   "execution_count": 82,
   "metadata": {},
   "outputs": [],
   "source": [
    "unique_words = set(split_lyrics)\n"
   ]
  },
  {
   "cell_type": "code",
   "execution_count": 83,
   "metadata": {},
   "outputs": [
    {
     "name": "stdout",
     "output_type": "stream",
     "text": [
      "The unique words are:\n",
      "{'flight', 'We', 'yeah', 'close', 'around', 'between', 'last', 'girl', 'fun', 'You', 'need', 'four', 'Yeah', 'make', 'right', 'us', 'with', 'play', 'me', 'What', 'day', 'girls', 'now', 'want', 'a', 'its', 'Run', 'Spent', 'like', 'spent', 'all', 'Love', 'up', 'I', 'sundown', 'guys', 'whole', 'daylight', 'more', 'good', 'too', 'nights', 'And', 'Til', 'Girls', 'ooh', 'Cause', 'when', 'that', 'come', 'twenty', 'late', 'Took', 'Trying', 'hours', 'Making', 'things', 'night', 'get', 'Backwood', 'to', 'Roll', 'But', 'weekend', 'u', 'through', 'baby', 'On', 'you', 'Getting', 'way', 'the', 'even'}\n"
     ]
    }
   ],
   "source": [
    "print(\"The unique words are:\")\n",
    "print(unique_words)"
   ]
  },
  {
   "cell_type": "code",
   "execution_count": 84,
   "metadata": {},
   "outputs": [
    {
     "name": "stdout",
     "output_type": "stream",
     "text": [
      "The number of unique words is 73\n"
     ]
    }
   ],
   "source": [
    "print(\"The number of unique words is {}\". format(len(unique_words)))"
   ]
  },
  {
   "cell_type": "code",
   "execution_count": 85,
   "metadata": {},
   "outputs": [
    {
     "name": "stdout",
     "output_type": "stream",
     "text": [
      "The unique words count is as follows:\n"
     ]
    }
   ],
   "source": [
    "print(\"The unique words count is as follows:\")"
   ]
  },
  {
   "cell_type": "code",
   "execution_count": 86,
   "metadata": {
    "scrolled": true
   },
   "outputs": [],
   "source": [
    "word_dict = {}\n",
    "for word in unique_words:\n",
    "    word_dict[word] = 0"
   ]
  },
  {
   "cell_type": "code",
   "execution_count": 87,
   "metadata": {},
   "outputs": [
    {
     "name": "stdout",
     "output_type": "stream",
     "text": [
      "{'flight': 1, 'We': 2, 'yeah': 19, 'close': 1, 'around': 1, 'between': 2, 'last': 2, 'girl': 4, 'fun': 1, 'You': 1, 'need': 5, 'four': 1, 'Yeah': 2, 'make': 1, 'right': 2, 'us': 1, 'with': 2, 'play': 2, 'me': 3, 'What': 1, 'day': 1, 'girls': 1, 'now': 2, 'want': 1, 'a': 5, 'its': 2, 'Run': 1, 'Spent': 1, 'like': 7, 'spent': 4, 'all': 2, 'Love': 1, 'up': 2, 'I': 9, 'sundown': 1, 'guys': 1, 'whole': 1, 'daylight': 1, 'more': 1, 'good': 2, 'too': 1, 'nights': 1, 'And': 3, 'Til': 1, 'Girls': 1, 'ooh': 4, 'Cause': 1, 'when': 2, 'that': 2, 'come': 2, 'twenty': 1, 'late': 1, 'Took': 1, 'Trying': 2, 'hours': 2, 'Making': 1, 'things': 2, 'night': 1, 'get': 1, 'Backwood': 2, 'to': 3, 'Roll': 2, 'But': 1, 'weekend': 1, 'u': 1, 'through': 2, 'baby': 4, 'On': 1, 'you': 8, 'Getting': 1, 'way': 1, 'the': 4, 'even': 1}\n"
     ]
    }
   ],
   "source": [
    "for word in split_lyrics:\n",
    "    word_dict[word] = word_dict[word] + 1\n",
    "print(word_dict)"
   ]
  },
  {
   "cell_type": "code",
   "execution_count": 88,
   "metadata": {},
   "outputs": [
    {
     "name": "stdout",
     "output_type": "stream",
     "text": [
      "flight , 2\n",
      "We , 2\n",
      "yeah , 2\n",
      "close , 2\n",
      "around , 2\n",
      "between , 2\n",
      "last , 2\n",
      "girl , 2\n",
      "fun , 2\n",
      "You , 2\n",
      "need , 2\n",
      "four , 2\n",
      "Yeah , 2\n",
      "make , 2\n",
      "right , 2\n",
      "us , 2\n",
      "with , 2\n",
      "play , 2\n",
      "me , 2\n",
      "What , 2\n",
      "day , 2\n",
      "girls , 2\n",
      "now , 2\n",
      "want , 2\n",
      "a , 2\n",
      "its , 2\n",
      "Run , 2\n",
      "Spent , 2\n",
      "like , 2\n",
      "spent , 2\n",
      "all , 2\n",
      "Love , 2\n",
      "up , 2\n",
      "I , 2\n",
      "sundown , 2\n",
      "guys , 2\n",
      "whole , 2\n",
      "daylight , 2\n",
      "more , 2\n",
      "good , 2\n",
      "too , 2\n",
      "nights , 2\n",
      "And , 2\n",
      "Til , 2\n",
      "Girls , 2\n",
      "ooh , 2\n",
      "Cause , 2\n",
      "when , 2\n",
      "that , 2\n",
      "come , 2\n",
      "twenty , 2\n",
      "late , 2\n",
      "Took , 2\n",
      "Trying , 2\n",
      "hours , 2\n",
      "Making , 2\n",
      "things , 2\n",
      "night , 2\n",
      "get , 2\n",
      "Backwood , 2\n",
      "to , 2\n",
      "Roll , 2\n",
      "But , 2\n",
      "weekend , 2\n",
      "u , 2\n",
      "through , 2\n",
      "baby , 2\n",
      "On , 2\n",
      "you , 2\n",
      "Getting , 2\n",
      "way , 2\n",
      "the , 2\n",
      "even , 2\n"
     ]
    }
   ],
   "source": [
    "for key in word_dict:\n",
    "    print(key,\",\", word_dict[word])"
   ]
  },
  {
   "cell_type": "code",
   "execution_count": null,
   "metadata": {},
   "outputs": [],
   "source": []
  },
  {
   "cell_type": "code",
   "execution_count": null,
   "metadata": {},
   "outputs": [],
   "source": []
  },
  {
   "cell_type": "code",
   "execution_count": null,
   "metadata": {},
   "outputs": [],
   "source": []
  }
 ],
 "metadata": {
  "kernelspec": {
   "display_name": "Python 3",
   "language": "python",
   "name": "python3"
  },
  "language_info": {
   "codemirror_mode": {
    "name": "ipython",
    "version": 3
   },
   "file_extension": ".py",
   "mimetype": "text/x-python",
   "name": "python",
   "nbconvert_exporter": "python",
   "pygments_lexer": "ipython3",
   "version": "3.7.4"
  }
 },
 "nbformat": 4,
 "nbformat_minor": 2
}
